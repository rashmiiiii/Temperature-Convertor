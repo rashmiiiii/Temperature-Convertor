{
 "cells": [
  {
   "cell_type": "code",
   "execution_count": null,
   "id": "6263f502",
   "metadata": {},
   "outputs": [
    {
     "name": "stderr",
     "output_type": "stream",
     "text": [
      "Exception in Tkinter callback\n",
      "Traceback (most recent call last):\n",
      "  File \"C:\\Users\\Dilip kumar Singh\\anaconda3\\lib\\tkinter\\__init__.py\", line 1892, in __call__\n",
      "    return self.func(*args)\n",
      "  File \"C:\\Users\\Dilip kumar Singh\\AppData\\Local\\Temp\\ipykernel_38152\\1930820548.py\", line 19, in call_convert\n",
      "    f = float((float(temp) * 9 / 5) + 32)\n",
      "ValueError: could not convert string to float: ''\n"
     ]
    }
   ],
   "source": [
    "import tkinter as tk\n",
    "from tkinter import messagebox\n",
    "from functools import partial\n",
    "\n",
    "\n",
    "# Declaration of global variable\n",
    "temp_Val = \"Celsius\"\n",
    "\n",
    "# getting drop down value\n",
    "def store_temp(set_temp):\n",
    "    global temp_Val \n",
    "    temp_Val = set_temp\n",
    "\n",
    "# Conversion of temperature\n",
    "def call_convert(rlabel1, inputn):\n",
    "    temp = inputn.get()\n",
    "    if temp_Val == 'Celsius':\n",
    "    # Conversion of celsius temperature to fahrenheit\n",
    "        f = float((float(temp) * 9 / 5) + 32)\n",
    "        rlabel1.config(text =\"%.1f Fahrenheit\" % f)\n",
    "        messagebox.showinfo(\"Temperature Converter\", \"Successfully converted to Fahrenheit \", )\n",
    "    if temp_Val == 'Fahrenheit':\n",
    "    # Conversion of fahrenheit temperature to celsius\n",
    "        c = float((float(temp) - 32) * 5 / 9)\n",
    "        rlabel1.config(text =\"%.1f Celsius\" % c)\n",
    "        messagebox.showinfo(\"Temperature Converter\", \"Successfully converted to Celsius \")\n",
    "    return\n",
    "\n",
    "\n",
    "# creating Tk window\n",
    "root = tk.Tk()\n",
    "\n",
    "# setting geometry of tk window\n",
    "root.geometry('300x150+600+200')\n",
    "\n",
    "# Using title() to display a message in the\n",
    "# dialogue box of the message in the title bar\n",
    "root.title('Temperature Converter')\n",
    "\n",
    "# Lay out widgets\n",
    "root.grid_columnconfigure(1, weight = 1)\n",
    "root.grid_rowconfigure(1, weight = 1)\n",
    "\n",
    "inputNumber = tk.StringVar()\n",
    "var = tk.StringVar()\n",
    "\n",
    "# label and entry field\n",
    "input_label = tk.Label(root, text =\"Enter temperature\")\n",
    "input_entry = tk.Entry(root, textvariable = inputNumber)\n",
    "input_label.grid(row = 1)\n",
    "input_entry.grid(row = 1, column = 1)\n",
    "result_label = tk.Label(root)\n",
    "result_label.grid(row = 3, columnspan = 4)\n",
    "\n",
    "# drop down setup\n",
    "dropDownList = [\"Celsius\", \"Fahrenheit\"]\n",
    "drop_down = tk.OptionMenu(root, var, *dropDownList, command = store_temp)\n",
    "var.set(dropDownList[0])\n",
    "drop_down.grid(row = 1, column = 2)\n",
    "\n",
    "\n",
    "call_convert = partial(call_convert, result_label,inputNumber)\n",
    "result_button = tk.Button(root, text =\"Convert\", command = call_convert)\n",
    "result_button.grid(row = 2, columnspan = 2)\n",
    "\n",
    "\n",
    "root.mainloop()\n"
   ]
  },
  {
   "cell_type": "code",
   "execution_count": null,
   "id": "20da5166",
   "metadata": {},
   "outputs": [],
   "source": []
  }
 ],
 "metadata": {
  "kernelspec": {
   "display_name": "Python 3 (ipykernel)",
   "language": "python",
   "name": "python3"
  },
  "language_info": {
   "codemirror_mode": {
    "name": "ipython",
    "version": 3
   },
   "file_extension": ".py",
   "mimetype": "text/x-python",
   "name": "python",
   "nbconvert_exporter": "python",
   "pygments_lexer": "ipython3",
   "version": "3.9.13"
  }
 },
 "nbformat": 4,
 "nbformat_minor": 5
}
